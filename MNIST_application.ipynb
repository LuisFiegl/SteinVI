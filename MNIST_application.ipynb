{
 "cells": [
  {
   "cell_type": "code",
   "execution_count": 1,
   "metadata": {},
   "outputs": [],
   "source": [
    "# MNIST_BNN_SVGD_JAX.ipynb\n",
    "\n",
    "# Import necessary libraries\n",
    "import jax\n",
    "import jax.numpy as jnp\n",
    "from jax.scipy.special import logsumexp\n",
    "from sklearn.datasets import fetch_openml\n",
    "from sklearn.model_selection import train_test_split\n",
    "import matplotlib.pyplot as plt\n",
    "\n",
    "from datetime import date\n",
    "\n",
    "rng_key = jax.random.key(int(date.today().strftime(\"%Y%m%d\")))\n",
    "from warnings import filterwarnings\n",
    "\n",
    "from flax import linen as nn\n",
    "import jax.numpy as jnp\n",
    "\n",
    "filterwarnings(\"ignore\")\n",
    "\n",
    "import sys, os\n",
    "sys.path.insert(0, os.path.abspath(\"..\"))\n",
    "from modules.evaluation_functions.bnn_functions_MNIST import *"
   ]
  },
  {
   "cell_type": "code",
   "execution_count": 2,
   "metadata": {},
   "outputs": [],
   "source": [
    "# Load and preprocess MNIST dataset\n",
    "mnist = fetch_openml('mnist_784', version=1)\n",
    "X = mnist.data.astype(jnp.float32) / 255.0  #/255 to normalize the data\n",
    "y = mnist.target.astype(jnp.int32)\n",
    "\n",
    "# Split dataset into train and test sets\n",
    "X_train, X_test, y_train, y_test = train_test_split(X, y, test_size=0.2, random_state=42)"
   ]
  },
  {
   "cell_type": "code",
   "execution_count": 3,
   "metadata": {},
   "outputs": [],
   "source": [
    "X_train = np.array(X_train)  # Ensure X_train is a NumPy array\n",
    "y_train = np.array(y_train)  # Ensure y_train is a NumPy array\n",
    "X_test = np.array(X_test)    # Ensure X_test is a NumPy array\n",
    "y_test = np.array(y_test)    # Ensure y_test is a NumPy array   "
   ]
  },
  {
   "cell_type": "code",
   "execution_count": 4,
   "metadata": {},
   "outputs": [],
   "source": [
    "hidden_layer_width = 100\n",
    "n_hidden_layers = 2\n",
    "\n",
    "class NN(nn.Module):\n",
    "    n_hidden_layers: int\n",
    "    layer_width: int\n",
    "\n",
    "    @nn.compact\n",
    "    def __call__(self, x):\n",
    "        for i in range(self.n_hidden_layers):\n",
    "            x = nn.Dense(features=self.layer_width)(x)\n",
    "            x = nn.tanh(x)\n",
    "        return nn.Dense(features=1)(x)\n",
    "\n",
    "bnn = NN(n_hidden_layers, hidden_layer_width)"
   ]
  },
  {
   "cell_type": "code",
   "execution_count": 5,
   "metadata": {},
   "outputs": [
    {
     "name": "stderr",
     "output_type": "stream",
     "text": [
      "100%|██████████| 40/40 [01:42<00:00,  2.56s/it]\n"
     ]
    }
   ],
   "source": [
    "rng_key, eval_key = jax.random.split(rng_key)\n",
    "\n",
    "def fit_and_eval_single_mlp(key, X_train, y_train, X_test):\n",
    "    return fit_and_eval(\n",
    "        key, bnn, logdensity_fn_of_bnn, X_train, y_train, X_test, grid =None,  num_steps=40,batch_size_particles = 20, batch_size_data = 32, num_particles=100\n",
    "    )\n",
    "\n",
    "Ys_pred_train, Ys_pred_test, ppc_grid_single, _, _ = fit_and_eval_single_mlp(eval_key, X_train, y_train, X_test)"
   ]
  },
  {
   "cell_type": "code",
   "execution_count": 6,
   "metadata": {},
   "outputs": [
    {
     "name": "stdout",
     "output_type": "stream",
     "text": [
      "Train accuracy = 12.02%\n"
     ]
    }
   ],
   "source": [
    "print(f\"Train accuracy = {100 * jnp.mean(Ys_pred_train == y_train):.2f}%\")"
   ]
  },
  {
   "cell_type": "code",
   "execution_count": 7,
   "metadata": {},
   "outputs": [
    {
     "name": "stdout",
     "output_type": "stream",
     "text": [
      "Test accuracy = 11.96%\n"
     ]
    }
   ],
   "source": [
    "print(f\"Test accuracy = {100 * jnp.mean(Ys_pred_test == y_test):.2f}%\")"
   ]
  }
 ],
 "metadata": {
  "kernelspec": {
   "display_name": "steinvi",
   "language": "python",
   "name": "python3"
  },
  "language_info": {
   "codemirror_mode": {
    "name": "ipython",
    "version": 3
   },
   "file_extension": ".py",
   "mimetype": "text/x-python",
   "name": "python",
   "nbconvert_exporter": "python",
   "pygments_lexer": "ipython3",
   "version": "3.10.15"
  }
 },
 "nbformat": 4,
 "nbformat_minor": 2
}
